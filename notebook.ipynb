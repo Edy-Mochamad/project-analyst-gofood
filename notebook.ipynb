{
 "cells": [
  {
   "attachments": {},
   "cell_type": "markdown",
   "metadata": {},
   "source": [
    "# **Proyek Analisis Data**\n",
    "\n",
    "- Nama      : Edy Mochamad Yusuf\n",
    "- Email     : edymochamady@gmail.com"
   ]
  },
  {
   "attachments": {},
   "cell_type": "markdown",
   "metadata": {},
   "source": [
    "# **Cek Version Python yang digunakan**"
   ]
  },
  {
   "cell_type": "code",
   "execution_count": 1,
   "metadata": {},
   "outputs": [
    {
     "name": "stdout",
     "output_type": "stream",
     "text": [
      "Python 3.10.8\n"
     ]
    }
   ],
   "source": [
    "!python --version"
   ]
  },
  {
   "cell_type": "code",
   "execution_count": 2,
   "metadata": {},
   "outputs": [
    {
     "name": "stdout",
     "output_type": "stream",
     "text": [
      "\n",
      "     active environment : env_gofood\n",
      "    active env location : C:\\Users\\ASUS\\anaconda3\\envs\\env_gofood\n",
      "            shell level : 1\n",
      "       user config file : C:\\Users\\ASUS\\.condarc\n",
      " populated config files : C:\\Users\\ASUS\\.condarc\n",
      "          conda version : 22.11.1\n",
      "    conda-build version : 3.22.0\n",
      "         python version : 3.9.13.final.0\n",
      "       virtual packages : __archspec=1=x86_64\n",
      "                          __win=0=0\n",
      "       base environment : C:\\Users\\ASUS\\anaconda3  (writable)\n",
      "      conda av data dir : C:\\Users\\ASUS\\anaconda3\\etc\\conda\n",
      "  conda av metadata url : None\n",
      "           channel URLs : https://repo.anaconda.com/pkgs/main/win-64\n",
      "                          https://repo.anaconda.com/pkgs/main/noarch\n",
      "                          https://repo.anaconda.com/pkgs/r/win-64\n",
      "                          https://repo.anaconda.com/pkgs/r/noarch\n",
      "                          https://repo.anaconda.com/pkgs/msys2/win-64\n",
      "                          https://repo.anaconda.com/pkgs/msys2/noarch\n",
      "          package cache : C:\\Users\\ASUS\\anaconda3\\pkgs\n",
      "                          C:\\Users\\ASUS\\.conda\\pkgs\n",
      "                          C:\\Users\\ASUS\\AppData\\Local\\conda\\conda\\pkgs\n",
      "       envs directories : C:\\Users\\ASUS\\anaconda3\\envs\n",
      "                          C:\\Users\\ASUS\\.conda\\envs\n",
      "                          C:\\Users\\ASUS\\AppData\\Local\\conda\\conda\\envs\n",
      "               platform : win-64\n",
      "             user-agent : conda/22.11.1 requests/2.28.1 CPython/3.9.13 Windows/10 Windows/10.0.17134\n",
      "          administrator : False\n",
      "             netrc file : None\n",
      "           offline mode : False\n",
      "\n"
     ]
    }
   ],
   "source": [
    "!conda info"
   ]
  },
  {
   "attachments": {},
   "cell_type": "markdown",
   "metadata": {},
   "source": [
    "# **Menentukan Pertanyaan Bisnis**\n",
    "\n",
    "-\n",
    "-\n",
    "-\n",
    "-"
   ]
  },
  {
   "attachments": {},
   "cell_type": "markdown",
   "metadata": {},
   "source": [
    "# **Menyiapkan Library yang digunakan**"
   ]
  },
  {
   "cell_type": "code",
   "execution_count": 23,
   "metadata": {},
   "outputs": [
    {
     "name": "stdout",
     "output_type": "stream",
     "text": [
      "2.0.3\n",
      "1.23.4\n",
      "0.12.2\n"
     ]
    }
   ],
   "source": [
    "import pandas as pd\n",
    "import numpy as np\n",
    "import matplotlib.pyplot as plt\n",
    "import seaborn as sns\n",
    "import warnings\n",
    "warnings.filterwarnings('ignore')\n",
    "\n",
    "print(pd.__version__)\n",
    "print(np.__version__)\n",
    "print(sns.__version__)"
   ]
  },
  {
   "attachments": {},
   "cell_type": "markdown",
   "metadata": {},
   "source": [
    "# **Data Wrangling**"
   ]
  },
  {
   "attachments": {},
   "cell_type": "markdown",
   "metadata": {},
   "source": [
    "## **Gathering Data**"
   ]
  },
  {
   "cell_type": "code",
   "execution_count": 32,
   "metadata": {},
   "outputs": [
    {
     "data": {
      "text/html": [
       "<div>\n",
       "<style scoped>\n",
       "    .dataframe tbody tr th:only-of-type {\n",
       "        vertical-align: middle;\n",
       "    }\n",
       "\n",
       "    .dataframe tbody tr th {\n",
       "        vertical-align: top;\n",
       "    }\n",
       "\n",
       "    .dataframe thead th {\n",
       "        text-align: right;\n",
       "    }\n",
       "</style>\n",
       "<table border=\"1\" class=\"dataframe\">\n",
       "  <thead>\n",
       "    <tr style=\"text-align: right;\">\n",
       "      <th></th>\n",
       "      <th>merchant_name</th>\n",
       "      <th>merchant_area</th>\n",
       "      <th>category</th>\n",
       "      <th>display</th>\n",
       "      <th>product</th>\n",
       "      <th>price</th>\n",
       "      <th>discount_price</th>\n",
       "      <th>isDiscount</th>\n",
       "      <th>description</th>\n",
       "    </tr>\n",
       "  </thead>\n",
       "  <tbody>\n",
       "    <tr>\n",
       "      <th>0</th>\n",
       "      <td>330 Kopi, Ciledug</td>\n",
       "      <td>jakarta</td>\n",
       "      <td>Kopi/Minuman/Roti</td>\n",
       "      <td>Signature</td>\n",
       "      <td>Hot Almara Kopi (kopi Susu Gula Aren)</td>\n",
       "      <td>20000.0</td>\n",
       "      <td>NaN</td>\n",
       "      <td>0</td>\n",
       "      <td>Sajian Kopi Susu Gula Aren Yang Berbeda Dari K...</td>\n",
       "    </tr>\n",
       "    <tr>\n",
       "      <th>1</th>\n",
       "      <td>330 Kopi, Ciledug</td>\n",
       "      <td>jakarta</td>\n",
       "      <td>Kopi/Minuman/Roti</td>\n",
       "      <td>Signature</td>\n",
       "      <td>Ice Almara Kopi (kopi Susu Gula Aren)</td>\n",
       "      <td>22000.0</td>\n",
       "      <td>NaN</td>\n",
       "      <td>0</td>\n",
       "      <td>Sajian Kopi Susu Gula Aren Yang Berbeda Dari K...</td>\n",
       "    </tr>\n",
       "    <tr>\n",
       "      <th>2</th>\n",
       "      <td>330 Kopi, Ciledug</td>\n",
       "      <td>jakarta</td>\n",
       "      <td>Kopi/Minuman/Roti</td>\n",
       "      <td>Signature</td>\n",
       "      <td>Hot Millsis</td>\n",
       "      <td>20000.0</td>\n",
       "      <td>NaN</td>\n",
       "      <td>0</td>\n",
       "      <td>Sajian Susu Coklat Milo Dengan Racikan Khas 3 ...</td>\n",
       "    </tr>\n",
       "    <tr>\n",
       "      <th>3</th>\n",
       "      <td>330 Kopi, Ciledug</td>\n",
       "      <td>jakarta</td>\n",
       "      <td>Kopi/Minuman/Roti</td>\n",
       "      <td>Signature</td>\n",
       "      <td>Ice Millsis</td>\n",
       "      <td>20000.0</td>\n",
       "      <td>NaN</td>\n",
       "      <td>0</td>\n",
       "      <td>Sajian Susu Coklat Milo Dengan Racikan Khas 3 ...</td>\n",
       "    </tr>\n",
       "    <tr>\n",
       "      <th>4</th>\n",
       "      <td>330 Kopi, Ciledug</td>\n",
       "      <td>jakarta</td>\n",
       "      <td>Kopi/Minuman/Roti</td>\n",
       "      <td>Signature</td>\n",
       "      <td>Hot Millbro</td>\n",
       "      <td>22000.0</td>\n",
       "      <td>NaN</td>\n",
       "      <td>0</td>\n",
       "      <td>Sajian Susu Coklat Milo Plus Espresso Dengan R...</td>\n",
       "    </tr>\n",
       "    <tr>\n",
       "      <th>5</th>\n",
       "      <td>330 Kopi, Ciledug</td>\n",
       "      <td>jakarta</td>\n",
       "      <td>Kopi/Minuman/Roti</td>\n",
       "      <td>Signature</td>\n",
       "      <td>Ice Millbro</td>\n",
       "      <td>22000.0</td>\n",
       "      <td>NaN</td>\n",
       "      <td>0</td>\n",
       "      <td>Sajian Susu Coklat Milo Plus Espresso Dengan R...</td>\n",
       "    </tr>\n",
       "  </tbody>\n",
       "</table>\n",
       "</div>"
      ],
      "text/plain": [
       "       merchant_name merchant_area           category    display  \\\n",
       "0  330 Kopi, Ciledug       jakarta  Kopi/Minuman/Roti  Signature   \n",
       "1  330 Kopi, Ciledug       jakarta  Kopi/Minuman/Roti  Signature   \n",
       "2  330 Kopi, Ciledug       jakarta  Kopi/Minuman/Roti  Signature   \n",
       "3  330 Kopi, Ciledug       jakarta  Kopi/Minuman/Roti  Signature   \n",
       "4  330 Kopi, Ciledug       jakarta  Kopi/Minuman/Roti  Signature   \n",
       "5  330 Kopi, Ciledug       jakarta  Kopi/Minuman/Roti  Signature   \n",
       "\n",
       "                                 product    price  discount_price  isDiscount  \\\n",
       "0  Hot Almara Kopi (kopi Susu Gula Aren)  20000.0             NaN           0   \n",
       "1  Ice Almara Kopi (kopi Susu Gula Aren)  22000.0             NaN           0   \n",
       "2                            Hot Millsis  20000.0             NaN           0   \n",
       "3                            Ice Millsis  20000.0             NaN           0   \n",
       "4                            Hot Millbro  22000.0             NaN           0   \n",
       "5                            Ice Millbro  22000.0             NaN           0   \n",
       "\n",
       "                                         description  \n",
       "0  Sajian Kopi Susu Gula Aren Yang Berbeda Dari K...  \n",
       "1  Sajian Kopi Susu Gula Aren Yang Berbeda Dari K...  \n",
       "2  Sajian Susu Coklat Milo Dengan Racikan Khas 3 ...  \n",
       "3  Sajian Susu Coklat Milo Dengan Racikan Khas 3 ...  \n",
       "4  Sajian Susu Coklat Milo Plus Espresso Dengan R...  \n",
       "5  Sajian Susu Coklat Milo Plus Espresso Dengan R...  "
      ]
     },
     "execution_count": 32,
     "metadata": {},
     "output_type": "execute_result"
    }
   ],
   "source": [
    "gf = pd.read_csv('gofood_dataset.csv')\n",
    "\n",
    "gf.head(6)"
   ]
  },
  {
   "attachments": {},
   "cell_type": "markdown",
   "metadata": {},
   "source": [
    "## **Assesing Data**"
   ]
  },
  {
   "cell_type": "code",
   "execution_count": 33,
   "metadata": {},
   "outputs": [
    {
     "name": "stdout",
     "output_type": "stream",
     "text": [
      "<class 'pandas.core.frame.DataFrame'>\n",
      "RangeIndex: 45195 entries, 0 to 45194\n",
      "Data columns (total 9 columns):\n",
      " #   Column          Non-Null Count  Dtype  \n",
      "---  ------          --------------  -----  \n",
      " 0   merchant_name   45195 non-null  object \n",
      " 1   merchant_area   45195 non-null  object \n",
      " 2   category        45195 non-null  object \n",
      " 3   display         45195 non-null  object \n",
      " 4   product         45195 non-null  object \n",
      " 5   price           45195 non-null  float64\n",
      " 6   discount_price  2738 non-null   float64\n",
      " 7   isDiscount      45195 non-null  int64  \n",
      " 8   description     21720 non-null  object \n",
      "dtypes: float64(2), int64(1), object(6)\n",
      "memory usage: 3.1+ MB\n"
     ]
    }
   ],
   "source": [
    "gf.info()"
   ]
  },
  {
   "cell_type": "code",
   "execution_count": 34,
   "metadata": {},
   "outputs": [
    {
     "data": {
      "text/html": [
       "<div>\n",
       "<style scoped>\n",
       "    .dataframe tbody tr th:only-of-type {\n",
       "        vertical-align: middle;\n",
       "    }\n",
       "\n",
       "    .dataframe tbody tr th {\n",
       "        vertical-align: top;\n",
       "    }\n",
       "\n",
       "    .dataframe thead th {\n",
       "        text-align: right;\n",
       "    }\n",
       "</style>\n",
       "<table border=\"1\" class=\"dataframe\">\n",
       "  <thead>\n",
       "    <tr style=\"text-align: right;\">\n",
       "      <th></th>\n",
       "      <th>price</th>\n",
       "      <th>discount_price</th>\n",
       "      <th>isDiscount</th>\n",
       "    </tr>\n",
       "  </thead>\n",
       "  <tbody>\n",
       "    <tr>\n",
       "      <th>count</th>\n",
       "      <td>4.519500e+04</td>\n",
       "      <td>2738.000000</td>\n",
       "      <td>45195.000000</td>\n",
       "    </tr>\n",
       "    <tr>\n",
       "      <th>mean</th>\n",
       "      <td>4.387851e+04</td>\n",
       "      <td>46382.973703</td>\n",
       "      <td>0.060582</td>\n",
       "    </tr>\n",
       "    <tr>\n",
       "      <th>std</th>\n",
       "      <td>9.317646e+04</td>\n",
       "      <td>42402.786836</td>\n",
       "      <td>0.238564</td>\n",
       "    </tr>\n",
       "    <tr>\n",
       "      <th>min</th>\n",
       "      <td>1.000000e+00</td>\n",
       "      <td>3500.000000</td>\n",
       "      <td>0.000000</td>\n",
       "    </tr>\n",
       "    <tr>\n",
       "      <th>25%</th>\n",
       "      <td>1.500000e+04</td>\n",
       "      <td>18000.000000</td>\n",
       "      <td>0.000000</td>\n",
       "    </tr>\n",
       "    <tr>\n",
       "      <th>50%</th>\n",
       "      <td>2.400000e+04</td>\n",
       "      <td>33175.000000</td>\n",
       "      <td>0.000000</td>\n",
       "    </tr>\n",
       "    <tr>\n",
       "      <th>75%</th>\n",
       "      <td>4.250000e+04</td>\n",
       "      <td>59975.000000</td>\n",
       "      <td>0.000000</td>\n",
       "    </tr>\n",
       "    <tr>\n",
       "      <th>max</th>\n",
       "      <td>1.980000e+06</td>\n",
       "      <td>355500.000000</td>\n",
       "      <td>1.000000</td>\n",
       "    </tr>\n",
       "  </tbody>\n",
       "</table>\n",
       "</div>"
      ],
      "text/plain": [
       "              price  discount_price    isDiscount\n",
       "count  4.519500e+04     2738.000000  45195.000000\n",
       "mean   4.387851e+04    46382.973703      0.060582\n",
       "std    9.317646e+04    42402.786836      0.238564\n",
       "min    1.000000e+00     3500.000000      0.000000\n",
       "25%    1.500000e+04    18000.000000      0.000000\n",
       "50%    2.400000e+04    33175.000000      0.000000\n",
       "75%    4.250000e+04    59975.000000      0.000000\n",
       "max    1.980000e+06   355500.000000      1.000000"
      ]
     },
     "execution_count": 34,
     "metadata": {},
     "output_type": "execute_result"
    }
   ],
   "source": [
    "gf.describe()"
   ]
  },
  {
   "attachments": {},
   "cell_type": "markdown",
   "metadata": {},
   "source": [
    "## **Cleaning Data**"
   ]
  },
  {
   "attachments": {},
   "cell_type": "markdown",
   "metadata": {},
   "source": [
    "## **Drop kolom yang tidak dibutuhkan**"
   ]
  },
  {
   "cell_type": "code",
   "execution_count": null,
   "metadata": {},
   "outputs": [],
   "source": []
  },
  {
   "cell_type": "code",
   "execution_count": null,
   "metadata": {},
   "outputs": [],
   "source": []
  }
 ],
 "metadata": {
  "kernelspec": {
   "display_name": "env_gofood",
   "language": "python",
   "name": "python3"
  },
  "language_info": {
   "codemirror_mode": {
    "name": "ipython",
    "version": 3
   },
   "file_extension": ".py",
   "mimetype": "text/x-python",
   "name": "python",
   "nbconvert_exporter": "python",
   "pygments_lexer": "ipython3",
   "version": "3.10.8"
  },
  "orig_nbformat": 4
 },
 "nbformat": 4,
 "nbformat_minor": 2
}
